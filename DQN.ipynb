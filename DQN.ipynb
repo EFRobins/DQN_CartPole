{
 "cells": [
  {
   "cell_type": "code",
   "execution_count": 9,
   "metadata": {},
   "outputs": [],
   "source": [
    "import gym\n",
    "from gym import wrappers\n",
    "import numpy as np"
   ]
  },
  {
   "cell_type": "code",
   "execution_count": 16,
   "metadata": {},
   "outputs": [
    {
     "ename": "SyntaxError",
     "evalue": "incomplete input (159489049.py, line 2)",
     "output_type": "error",
     "traceback": [
      "\u001b[1;36m  Cell \u001b[1;32mIn[16], line 2\u001b[1;36m\u001b[0m\n\u001b[1;33m    #print(i)\u001b[0m\n\u001b[1;37m             ^\u001b[0m\n\u001b[1;31mSyntaxError\u001b[0m\u001b[1;31m:\u001b[0m incomplete input\n"
     ]
    }
   ],
   "source": [
    "for i in gym.envs.registry:\n",
    "    #print(i)"
   ]
  },
  {
   "cell_type": "code",
   "execution_count": 117,
   "metadata": {},
   "outputs": [],
   "source": [
    "class ANN:\n",
    "    def __init__(self, input_size, hidden_size, output_size):\n",
    "        self.learning_rate = 0.005\n",
    "        self.input_size = input_size\n",
    "        self.hidden_size = hidden_size\n",
    "        self.output_size = output_size\n",
    "        \n",
    "        # Initialize weights\n",
    "        self.W1 = np.random.randn(hidden_size, input_size)\n",
    "        self.b1 = np.zeros((hidden_size, 1))\n",
    "        self.W2 = np.random.randn(output_size, hidden_size)\n",
    "        self.b2 = np.zeros((output_size, 1))\n",
    "        \n",
    "    def forward(self, observation):\n",
    "        self.hidden_in = np.dot(self.W1, observation) + self.b1\n",
    "        self.hidden_out = (self.hidden_in > 0) * self.hidden_in\n",
    "        self.output_in = np.dot(self.W2, self.hidden_out) + self.b2\n",
    "        self.output_out = self.softmax(self.output_in)\n",
    "        return self.output_out\n",
    "    \n",
    "    def backprop(self, observation, Error):\n",
    "        reluOutput = np.where(self.output_in > 0, 1, 0)    \n",
    "        delta2 = reluOutput * Error\n",
    "\n",
    "        dw2 = np.outer(delta2, self.hidden_out)\n",
    "        db2 = delta2\n",
    "\n",
    "        reluInput = np.where(self.hidden_in > 0, 1, 0)\n",
    "        delta1 = reluInput * np.dot(self.W2.T, delta2)\n",
    "\n",
    "        dw1 = np.outer(delta1, observation.reshape(-1, 1))\n",
    "        db1 = delta1\n",
    "\n",
    "        print(\"Shape of dw1:\", dw1.shape)\n",
    "        print(\"Shape of self.W1:\", self.W1.shape)\n",
    "        print(\"Shape of observation:\", observation.reshape(-1, 1).shape)\n",
    "        print(\"sjape of delta 1:\", delta1.shape)\n",
    "        # Update Rules\n",
    "        self.W1 += self.learning_rate * dw1\n",
    "        self.W2 += self.learning_rate * dw2\n",
    "        self.b1 += self.learning_rate * db1\n",
    "        self.b2 += self.learning_rate * db2  \n",
    "\n",
    "    def softmax(self, Z):\n",
    "        e_Z = np.exp(Z - np.max(Z, axis=0))\n",
    "        return e_Z / np.sum(e_Z, axis=0)\n"
   ]
  },
  {
   "cell_type": "code",
   "execution_count": 118,
   "metadata": {},
   "outputs": [
    {
     "name": "stdout",
     "output_type": "stream",
     "text": [
      "Shape of dw1: (64, 4)\n",
      "Shape of self.W1: (8, 4)\n",
      "Shape of observation: (4, 1)\n",
      "sjape of delta 1: (8, 8)\n"
     ]
    },
    {
     "ename": "ValueError",
     "evalue": "operands could not be broadcast together with shapes (8,4) (64,4) (8,4) ",
     "output_type": "error",
     "traceback": [
      "\u001b[1;31m---------------------------------------------------------------------------\u001b[0m",
      "\u001b[1;31mValueError\u001b[0m                                Traceback (most recent call last)",
      "Cell \u001b[1;32mIn[118], line 25\u001b[0m\n\u001b[0;32m     23\u001b[0m     observation_next, reward, done, info, _ \u001b[39m=\u001b[39m env\u001b[39m.\u001b[39mstep(action)\n\u001b[0;32m     24\u001b[0m     Error \u001b[39m=\u001b[39m reward \u001b[39m-\u001b[39m np\u001b[39m.\u001b[39mmax(averages)\n\u001b[1;32m---> 25\u001b[0m     net\u001b[39m.\u001b[39;49mbackprop(observation[\u001b[39m0\u001b[39;49m], Error)\n\u001b[0;32m     27\u001b[0m env\u001b[39m.\u001b[39mclose()\n",
      "Cell \u001b[1;32mIn[117], line 39\u001b[0m, in \u001b[0;36mANN.backprop\u001b[1;34m(self, observation, Error)\u001b[0m\n\u001b[0;32m     37\u001b[0m \u001b[39mprint\u001b[39m(\u001b[39m\"\u001b[39m\u001b[39msjape of delta 1:\u001b[39m\u001b[39m\"\u001b[39m, delta1\u001b[39m.\u001b[39mshape)\n\u001b[0;32m     38\u001b[0m \u001b[39m# Update Rules\u001b[39;00m\n\u001b[1;32m---> 39\u001b[0m \u001b[39mself\u001b[39;49m\u001b[39m.\u001b[39;49mW1 \u001b[39m+\u001b[39;49m\u001b[39m=\u001b[39;49m \u001b[39mself\u001b[39;49m\u001b[39m.\u001b[39;49mlearning_rate \u001b[39m*\u001b[39;49m dw1\n\u001b[0;32m     40\u001b[0m \u001b[39mself\u001b[39m\u001b[39m.\u001b[39mW2 \u001b[39m+\u001b[39m\u001b[39m=\u001b[39m \u001b[39mself\u001b[39m\u001b[39m.\u001b[39mlearning_rate \u001b[39m*\u001b[39m dw2\n\u001b[0;32m     41\u001b[0m \u001b[39mself\u001b[39m\u001b[39m.\u001b[39mb1 \u001b[39m+\u001b[39m\u001b[39m=\u001b[39m \u001b[39mself\u001b[39m\u001b[39m.\u001b[39mlearning_rate \u001b[39m*\u001b[39m db1\n",
      "\u001b[1;31mValueError\u001b[0m: operands could not be broadcast together with shapes (8,4) (64,4) (8,4) "
     ]
    },
    {
     "ename": "",
     "evalue": "",
     "output_type": "error",
     "traceback": [
      "\u001b[1;31mThe Kernel crashed while executing code in the the current cell or a previous cell. Please review the code in the cell(s) to identify a possible cause of the failure. Click <a href='https://aka.ms/vscodeJupyterKernelCrash'>here</a> for more info. View Jupyter <a href='command:jupyter.viewOutput'>log</a> for further details."
     ]
    }
   ],
   "source": [
    "epsilon_0 = 0.6 \n",
    "beta = 0.00005\n",
    "gamma = 0.85  \n",
    "eta = 0.005 \n",
    "\n",
    "env = gym.make('CartPole-v1', render_mode=\"human\")\n",
    "observation = env.reset()\n",
    "\n",
    "s_size = env.observation_space.shape[0]\n",
    "a_size = env.action_space.n\n",
    "hidden_size = 8\n",
    "\n",
    "net = ANN(s_size, hidden_size, a_size)\n",
    "\n",
    "done = False\n",
    "while not done:\n",
    "    env.render()\n",
    "    \n",
    "    probabilities = net.forward(observation[0])\n",
    "    averages = np.mean(probabilities, axis=1)\n",
    "    action = np.argmax(averages)\n",
    "    \n",
    "    observation_next, reward, done, info, _ = env.step(action)\n",
    "    Error = reward - np.max(averages)\n",
    "    net.backprop(observation[0], Error)\n",
    "    \n",
    "env.close()"
   ]
  }
 ],
 "metadata": {
  "kernelspec": {
   "display_name": "Python 3",
   "language": "python",
   "name": "python3"
  },
  "language_info": {
   "codemirror_mode": {
    "name": "ipython",
    "version": 3
   },
   "file_extension": ".py",
   "mimetype": "text/x-python",
   "name": "python",
   "nbconvert_exporter": "python",
   "pygments_lexer": "ipython3",
   "version": "3.11.4"
  },
  "orig_nbformat": 4
 },
 "nbformat": 4,
 "nbformat_minor": 2
}
